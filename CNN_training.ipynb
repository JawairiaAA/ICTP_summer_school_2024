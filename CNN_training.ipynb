{
 "cells": [
  {
   "cell_type": "code",
   "execution_count": 1,
   "metadata": {},
   "outputs": [
    {
     "ename": "ModuleNotFoundError",
     "evalue": "No module named 'tensorflow'",
     "output_type": "error",
     "traceback": [
      "\u001b[0;31m---------------------------------------------------------------------------\u001b[0m",
      "\u001b[0;31mModuleNotFoundError\u001b[0m                       Traceback (most recent call last)",
      "Cell \u001b[0;32mIn[1], line 8\u001b[0m\n\u001b[1;32m      6\u001b[0m \u001b[38;5;28;01mimport\u001b[39;00m \u001b[38;5;21;01mglob\u001b[39;00m\u001b[38;5;241m,\u001b[39m \u001b[38;5;21;01mos\u001b[39;00m\n\u001b[1;32m      7\u001b[0m \u001b[38;5;28;01mimport\u001b[39;00m \u001b[38;5;21;01mrandom\u001b[39;00m\n\u001b[0;32m----> 8\u001b[0m \u001b[38;5;28;01mimport\u001b[39;00m \u001b[38;5;21;01mtensorflow\u001b[39;00m \u001b[38;5;28;01mas\u001b[39;00m \u001b[38;5;21;01mtf\u001b[39;00m\n\u001b[1;32m      9\u001b[0m \u001b[38;5;28;01mfrom\u001b[39;00m \u001b[38;5;21;01mtensorflow\u001b[39;00m \u001b[38;5;28;01mimport\u001b[39;00m keras\n",
      "\u001b[0;31mModuleNotFoundError\u001b[0m: No module named 'tensorflow'"
     ]
    }
   ],
   "source": [
    "import numpy as np\n",
    "#import matplotlib as plt\n",
    "import pandas as pd\n",
    "import xarray as xr\n",
    "import matplotlib.pyplot as plt\n",
    "import glob, os\n",
    "import random\n",
    "import tensorflow as tf\n",
    "from tensorflow import keras\n",
    "\n"
   ]
  },
  {
   "cell_type": "code",
   "execution_count": null,
   "metadata": {},
   "outputs": [],
   "source": [
    "val_target_FILENAME = \"/afs/ictp.it/home/j/jahmad/Downloads/val_target.npy\"\n",
    "val_input_FILENAME = \"/afs/ictp.it/home/j/jahmad/Downloads/val_input.npy\""
   ]
  },
  {
   "cell_type": "code",
   "execution_count": null,
   "metadata": {},
   "outputs": [],
   "source": [
    "val_input_dataset=np.load(val_input_FILENAME)\n",
    "val_target_dataset=np.load(val_target_FILENAME)\n",
    "print(val_input_dataset.shape)\n"
   ]
  },
  {
   "cell_type": "code",
   "execution_count": null,
   "metadata": {},
   "outputs": [],
   "source": [
    "# temp\n",
    "temp_surface = val_input_dataset[:,59]\n",
    "temp_mid = val_input_dataset[:,29]\n",
    "temp_top = val_input_dataset[:,0]\n",
    "\n",
    "# specific humidity\n",
    "sp_humidity_surface = val_input_dataset[:,60+29]\n",
    "sp_humidity_mid = val_input_dataset[:,60+29]\n",
    "sp_humidity_top = val_input_dataset[:,60]\n",
    "\n",
    "# surface pressure\n",
    "surface_pressure = val_input_dataset[:,-4]\n",
    "\n",
    "# Insolation\n",
    "insolation = val_input_dataset[:,-3]\n",
    "\n",
    "# Surface latent heat flux\n",
    "surface_latent_heat = val_input_dataset[:,-2]\n",
    "\n",
    "# Surface sensible heat flux\n",
    "surface_sensible_heat = val_input_dataset[:,-1]\n",
    "\n"
   ]
  }
 ],
 "metadata": {
  "kernelspec": {
   "display_name": "convml-tt",
   "language": "python",
   "name": "convml-tt"
  },
  "language_info": {
   "codemirror_mode": {
    "name": "ipython",
    "version": 3
   },
   "file_extension": ".py",
   "mimetype": "text/x-python",
   "name": "python",
   "nbconvert_exporter": "python",
   "pygments_lexer": "ipython3",
   "version": "3.12.4"
  }
 },
 "nbformat": 4,
 "nbformat_minor": 4
}
